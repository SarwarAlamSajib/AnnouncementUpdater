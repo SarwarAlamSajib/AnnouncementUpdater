{
  "nbformat": 4,
  "nbformat_minor": 0,
  "metadata": {
    "colab": {
      "provenance": [],
      "authorship_tag": "ABX9TyMjU77WKm6Xzv3lS969srnN"
    },
    "kernelspec": {
      "name": "python3",
      "display_name": "Python 3"
    },
    "language_info": {
      "name": "python"
    }
  },
  "cells": [
    {
      "cell_type": "code",
      "execution_count": 1,
      "metadata": {
        "colab": {
          "base_uri": "https://localhost:8080/"
        },
        "id": "BGglJFybKAhj",
        "outputId": "114efe66-946b-4b38-fe00-f123bbb76cda"
      },
      "outputs": [
        {
          "output_type": "stream",
          "name": "stdout",
          "text": [
            "Predicted Category: Suspicious\n"
          ]
        }
      ],
      "source": [
        "import pandas as pd\n",
        "from sklearn.pipeline import make_pipeline\n",
        "from sklearn.feature_extraction.text import CountVectorizer\n",
        "from sklearn.linear_model import LogisticRegression\n",
        "\n",
        "# Sample data for incidents\n",
        "data = pd.DataFrame({\n",
        "    'description': [\"Unusual login detected\", \"Ransomware attack reported\",\n",
        "                    \"Phishing email received\", \"Malware found during scan\",\n",
        "                    \"Data breach incident reported\"],\n",
        "    'category': [\"Suspicious\", \"Ransomware\", \"Phishing\", \"Malware\", \"Breach\"]\n",
        "})\n",
        "\n",
        "# Create and train the model\n",
        "model = make_pipeline(CountVectorizer(), LogisticRegression())\n",
        "model.fit(data['description'], data['category'])\n",
        "\n",
        "# Predict a new incident\n",
        "new_incident = [\"Login attempt from abroad.\"]\n",
        "predicted_category = model.predict(new_incident)[0]\n",
        "\n",
        "print(\"Predicted Category:\", predicted_category)"
      ]
    }
  ]
}